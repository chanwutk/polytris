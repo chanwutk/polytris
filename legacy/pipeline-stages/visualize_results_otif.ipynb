{
 "cells": [
  {
   "cell_type": "code",
   "execution_count": null,
   "metadata": {},
   "outputs": [],
   "source": [
    "import os\n",
    "import json\n",
    "import altair as alt"
   ]
  },
  {
   "cell_type": "code",
   "execution_count": null,
   "metadata": {},
   "outputs": [],
   "source": [
    "runtime_files = []\n",
    "for f in os.listdir('tracking_results_otif'):\n",
    "    if f.startswith('runtime_'):\n",
    "        runtime_files.append(f)\n",
    "\n",
    "runtime_files.sort()\n",
    "for f in runtime_files:\n",
    "    print(f)"
   ]
  },
  {
   "cell_type": "code",
   "execution_count": null,
   "metadata": {},
   "outputs": [],
   "source": [
    "acc_files = []\n",
    "for f in os.listdir('track-accuracy-eval-pack-otif/xsort'):\n",
    "    acc_files.append(f)\n",
    "acc_files.sort()\n",
    "for f in acc_files:\n",
    "    print(f)"
   ]
  },
  {
   "cell_type": "code",
   "execution_count": null,
   "metadata": {},
   "outputs": [],
   "source": [
    "benchmark_data = []\n",
    "for r, a in zip(runtime_files, acc_files):\n",
    "    print(r, a)\n",
    "    assert r[len('runtime_'):-len('.json')] == a[len('tracked_'):]\n",
    "    with open('tracking_results_otif/' + r) as rf:\n",
    "        with open(os.path.join('track-accuracy-eval-pack-otif/xsort', a, 'car_summary.txt')) as af:\n",
    "            runtime = json.load(rf)\n",
    "            acc_k = af.readline().strip().split(' ')\n",
    "            acc_v = af.readline().strip().split(' ')\n",
    "            acc = dict(zip(acc_k, acc_v))\n",
    "            opt_type = r[len('runtime_'):-len('.json')].split('_')[0]\n",
    "            if '_isr_' in  r[len('runtime_'):-len('.json')]:\n",
    "                opt_type = 'op + frame skip'\n",
    "            benchmark_data.append({\n",
    "                **runtime,\n",
    "                **acc,\n",
    "                \"expr\": r[len('runtime_'):-len('.json')],\n",
    "                \"opt_type\": opt_type,\n",
    "            })\n",
    "benchmark_data"
   ]
  },
  {
   "cell_type": "code",
   "execution_count": null,
   "metadata": {},
   "outputs": [],
   "source": [
    "alt.Chart(alt.Data(values=benchmark_data)).mark_point().encode(\n",
    "    x=alt.X('fps:Q', title='fps'),\n",
    "    y=alt.Y('AssA:Q', title='HOTA'),\n",
    "    color=alt.Color('opt_type:N', title='Optimization Type'),\n",
    "    tooltip=[\n",
    "        alt.Tooltip('expr:N', title='Expression'),\n",
    "        alt.Tooltip('time:Q', title='Runtime (ms)'),\n",
    "        alt.Tooltip('fps:Q', title='FPS'),\n",
    "        alt.Tooltip('AssA:Q', title='AssA'),\n",
    "        alt.Tooltip('HOTA:Q', title='HOTA'),\n",
    "    ],\n",
    ").properties(\n",
    "    width=500,\n",
    "    height=500,\n",
    ")"
   ]
  },
  {
   "cell_type": "code",
   "execution_count": null,
   "metadata": {},
   "outputs": [],
   "source": []
  }
 ],
 "metadata": {
  "kernelspec": {
   "display_name": "Python 3",
   "language": "python",
   "name": "python3"
  },
  "language_info": {
   "codemirror_mode": {
    "name": "ipython",
    "version": 3
   },
   "file_extension": ".py",
   "mimetype": "text/x-python",
   "name": "python",
   "nbconvert_exporter": "python",
   "pygments_lexer": "ipython3",
   "version": "3.13.2"
  }
 },
 "nbformat": 4,
 "nbformat_minor": 2
}
