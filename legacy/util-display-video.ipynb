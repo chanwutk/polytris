{
 "cells": [
  {
   "cell_type": "code",
   "execution_count": null,
   "metadata": {},
   "outputs": [],
   "source": [
    "from IPython.display import Video\n",
    "import os"
   ]
  },
  {
   "cell_type": "code",
   "execution_count": null,
   "metadata": {},
   "outputs": [],
   "source": [
    "FILENAME = \"video-masked/jnc01.mp4\""
   ]
  },
  {
   "cell_type": "code",
   "execution_count": null,
   "metadata": {},
   "outputs": [],
   "source": [
    "OUTPUT_FILENAME = f\"{FILENAME[:-len('.mp4')]}.x264.mp4\""
   ]
  },
  {
   "cell_type": "code",
   "execution_count": null,
   "metadata": {},
   "outputs": [],
   "source": [
    "if os.path.exists(OUTPUT_FILENAME):\n",
    "    os.system(OUTPUT_FILENAME)\n",
    "\n",
    "command = (\n",
    "    \"docker run --rm -v $(pwd):/config linuxserver/ffmpeg \" +\n",
    "    \"-i {input_file} \".format(input_file=os.path.join('/config', FILENAME)) +\n",
    "    \"-vcodec libx264 \" +\n",
    "    \"{output_file}\".format(output_file=os.path.join('/config', OUTPUT_FILENAME))\n",
    ")\n",
    "print(command)\n",
    "os.system(command)\n",
    "# os.system(f\"ffmpeg -i ./{FILENAME} ./{FILENAME[:-len('.mp4')]}_x264.mp4\")\n",
    "Video(f\"{FILENAME[:-len('.mp4')]}.x264.mp4\")"
   ]
  }
 ],
 "metadata": {
  "kernelspec": {
   "display_name": "Python 3",
   "language": "python",
   "name": "python3"
  },
  "language_info": {
   "codemirror_mode": {
    "name": "ipython",
    "version": 3
   },
   "file_extension": ".py",
   "mimetype": "text/x-python",
   "name": "python",
   "nbconvert_exporter": "python",
   "pygments_lexer": "ipython3",
   "version": "3.13.1"
  }
 },
 "nbformat": 4,
 "nbformat_minor": 2
}
