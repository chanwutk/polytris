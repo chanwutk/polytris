{
 "cells": [
  {
   "cell_type": "code",
   "execution_count": null,
   "metadata": {},
   "outputs": [],
   "source": [
    "import os\n",
    "import json\n",
    "import shapely\n",
    "import shapely.geometry\n",
    "import numpy as np\n",
    "from tqdm import tqdm"
   ]
  },
  {
   "cell_type": "code",
   "execution_count": null,
   "metadata": {},
   "outputs": [],
   "source": [
    "!pip install ipywidgets"
   ]
  },
  {
   "cell_type": "code",
   "execution_count": null,
   "metadata": {},
   "outputs": [],
   "source": [
    "with open('track-results/jnc00.mp4.t.json', 'r') as f:\n",
    "    data = json.load(f)\n"
   ]
  },
  {
   "cell_type": "code",
   "execution_count": null,
   "metadata": {},
   "outputs": [],
   "source": [
    "width = 0\n",
    "height = 0"
   ]
  },
  {
   "cell_type": "code",
   "execution_count": null,
   "metadata": {},
   "outputs": [],
   "source": [
    "ious = dict()\n",
    "\n",
    "for tid, poss in tqdm(data.items(), total=len(data)):\n",
    "    for idx, (id1, *bound1) in enumerate(poss[:-1]):\n",
    "        ious[(tid, id1)] = {\n",
    "            'expected': [],\n",
    "            'original': [],\n",
    "        }\n",
    "        width = max(width, bound1[2])\n",
    "        height = max(height, bound1[3])\n",
    "\n",
    "        box1 = shapely.geometry.box(*bound1)\n",
    "        cpoint = box1.centroid\n",
    "        nposs = poss[idx + 1]\n",
    "        nid  = nposs[0]\n",
    "        nbox1 = shapely.geometry.box(*nposs[1:])\n",
    "        ncpoint = nbox1.centroid\n",
    "        velocity = (np.array(ncpoint.xy) - np.array(cpoint.xy)).flatten() * (nid - id1)\n",
    "        for id2, *bound2 in poss[idx + 1:]:\n",
    "            box2 = shapely.geometry.box(*bound2)\n",
    "            intersection = box1.intersection(box2)\n",
    "            union = box1.union(box2)\n",
    "            iou1 = intersection.area / union.area\n",
    "\n",
    "            t = velocity * (id2 - id1)\n",
    "            box1_ = shapely.affinity.translate(box1, *t)\n",
    "            intersection = box1_.intersection(box2)\n",
    "            union = box1_.union(box2)\n",
    "            iou2 = intersection.area / union.area\n",
    "\n",
    "            ious[(tid, id1)]['original'].append((id2, id2 - id1, iou1, cpoint))\n",
    "            ious[(tid, id1)]['expected'].append((id2, id2 - id1, iou2, cpoint))\n",
    "\n",
    "            if iou1 < 0.3 and iou2 < 0.3:\n",
    "                break"
   ]
  },
  {
   "cell_type": "code",
   "execution_count": null,
   "metadata": {},
   "outputs": [],
   "source": [
    "ious = dict()\n",
    "\n",
    "for tid, poss in data.items():\n",
    "    for idx, (id1, *bound1) in enumerate(poss[:-1]):\n",
    "        ious[(tid, id1)] = {\n",
    "            'expected': [],\n",
    "            'original': [],\n",
    "        }\n",
    "        width = max(width, bound1[2])\n",
    "        height = max(height, bound1[3])\n",
    "\n",
    "        box1 = shapely.geometry.box(*bound1)\n",
    "        cpoint = box1.centroid\n",
    "        nposs = poss[idx + 1]\n",
    "        nid  = nposs[0]\n",
    "        nbox1 = shapely.geometry.box(*nposs[1:])\n",
    "        ncpoint = nbox1.centroid\n",
    "        velocity = (np.array(ncpoint.xy) - np.array(cpoint.xy)).flatten() * (nid - id1)\n",
    "        for id2, *bound2 in poss[idx + 1:]:\n",
    "            box2 = shapely.geometry.box(*bound2)\n",
    "            intersection = box1.intersection(box2)\n",
    "            union = box1.union(box2)\n",
    "            iou1 = intersection.area / union.area\n",
    "\n",
    "            t = velocity * (id2 - id1)\n",
    "            box1_ = shapely.affinity.translate(box1, *t)\n",
    "            intersection = box1_.intersection(box2)\n",
    "            union = box1_.union(box2)\n",
    "            iou2 = intersection.area / union.area\n",
    "\n",
    "            ious[(tid, id1)]['original'].append((id2, id2 - id1, iou1, cpoint))\n",
    "            ious[(tid, id1)]['expected'].append((id2, id2 - id1, iou2, cpoint))\n",
    "\n",
    "            if iou1 < 0.3 and iou2 < 0.3:\n",
    "                break"
   ]
  },
  {
   "cell_type": "code",
   "execution_count": null,
   "metadata": {},
   "outputs": [],
   "source": [
    "bin = np.zeros(((height // 128) + 1, (width // 128) + 1), dtype=np.float32)\n",
    "count = np.zeros(((height // 128) + 1, (width // 128) + 1), dtype=int)"
   ]
  },
  {
   "cell_type": "code",
   "execution_count": null,
   "metadata": {},
   "outputs": [],
   "source": [
    "for (tid, id1), iou in ious.items():\n",
    "    id2, skip_dist, iou1, cpoint = iou['expected'][-1]\n",
    "    [[x], [y]] = np.array(cpoint.xy, dtype=int) // 128\n",
    "    print(x, y)\n",
    "    # x, y = iou1 * 128, iou1 * 128\n",
    "    bin[y, x] += skip_dist\n",
    "    count[y, x] += 1"
   ]
  },
  {
   "cell_type": "code",
   "execution_count": null,
   "metadata": {},
   "outputs": [],
   "source": [
    "bin / count\n",
    "avg = bin / count\n",
    "avg[np.isnan(avg)] = 0\n",
    "avg\n",
    "avg = avg.astype(int)"
   ]
  },
  {
   "cell_type": "code",
   "execution_count": null,
   "metadata": {},
   "outputs": [],
   "source": [
    "import matplotlib.pyplot as plt\n",
    "import numpy as np\n",
    "\n",
    "import matplotlib\n",
    "import matplotlib as mpl\n",
    "\n",
    "\n",
    "vegetables = [*range(avg.shape[0])]\n",
    "farmers = [*range(avg.shape[1])]\n",
    "\n",
    "harvest = avg\n",
    "\n",
    "\n",
    "fig, ax = plt.subplots()\n",
    "im = ax.imshow(harvest)\n",
    "\n",
    "# Show all ticks and label them with the respective list entries\n",
    "ax.set_xticks(range(len(farmers)), labels=farmers,\n",
    "              rotation=45, ha=\"right\", rotation_mode=\"anchor\")\n",
    "ax.set_yticks(range(len(vegetables)), labels=vegetables)\n",
    "\n",
    "# Loop over data dimensions and create text annotations.\n",
    "for i in range(len(vegetables)):\n",
    "    for j in range(len(farmers)):\n",
    "        text = ax.text(j, i, harvest[i, j],\n",
    "                       ha=\"center\", va=\"center\", color=\"w\")\n",
    "\n",
    "# ax.set_title(\"Harvest of local farmers (in tons/year)\")\n",
    "fig.tight_layout()\n",
    "plt.show()"
   ]
  },
  {
   "cell_type": "code",
   "execution_count": null,
   "metadata": {},
   "outputs": [],
   "source": []
  }
 ],
 "metadata": {
  "kernelspec": {
   "display_name": "Python 3",
   "language": "python",
   "name": "python3"
  },
  "language_info": {
   "codemirror_mode": {
    "name": "ipython",
    "version": 3
   },
   "file_extension": ".py",
   "mimetype": "text/x-python",
   "name": "python",
   "nbconvert_exporter": "python",
   "pygments_lexer": "ipython3",
   "version": "3.13.1"
  }
 },
 "nbformat": 4,
 "nbformat_minor": 2
}
